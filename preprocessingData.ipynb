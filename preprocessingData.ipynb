{
  "nbformat": 4,
  "nbformat_minor": 0,
  "metadata": {
    "colab": {
      "name": "preprocessingData.ipynb",
      "provenance": [],
      "authorship_tag": "ABX9TyO8drG0uXc7iJ2uG51bc4Qj",
      "include_colab_link": true
    },
    "kernelspec": {
      "name": "python3",
      "display_name": "Python 3"
    },
    "language_info": {
      "name": "python"
    }
  },
  "cells": [
    {
      "cell_type": "markdown",
      "metadata": {
        "id": "view-in-github",
        "colab_type": "text"
      },
      "source": [
        "<a href=\"https://colab.research.google.com/github/c-quilo/premiereDroplets/blob/main/preprocessingData.ipynb\" target=\"_parent\"><img src=\"https://colab.research.google.com/assets/colab-badge.svg\" alt=\"Open In Colab\"/></a>"
      ]
    },
    {
      "cell_type": "code",
      "metadata": {
        "id": "u7t8vhvL89A2"
      },
      "source": [
        ""
      ],
      "execution_count": null,
      "outputs": []
    },
    {
      "cell_type": "markdown",
      "metadata": {
        "id": "4p17TnNmsejX"
      },
      "source": [
        "Preprocessing data for Premiere Case Study 3"
      ]
    },
    {
      "cell_type": "code",
      "metadata": {
        "colab": {
          "base_uri": "https://localhost:8080/"
        },
        "id": "Wq36Xr9WyipC",
        "outputId": "e6667e2c-1c5c-474e-a97f-ce6480ee093b"
      },
      "source": [
        "!git clone https://github.com/c-quilo/premiereDroplets.git"
      ],
      "execution_count": null,
      "outputs": [
        {
          "output_type": "stream",
          "text": [
            "fatal: destination path 'premiereDroplets' already exists and is not an empty directory.\n"
          ],
          "name": "stdout"
        }
      ]
    },
    {
      "cell_type": "code",
      "metadata": {
        "id": "8lyQ7So-tR3L"
      },
      "source": [
        "import numpy as np\n",
        "import tensorflow.keras as tf\n",
        "import pandas as pd\n",
        "import matplotlib.pyplot as plt"
      ],
      "execution_count": null,
      "outputs": []
    },
    {
      "cell_type": "markdown",
      "metadata": {
        "id": "9aCdzNxiuZXZ"
      },
      "source": [
        "Droplet experiment data is preprocessed"
      ]
    },
    {
      "cell_type": "code",
      "metadata": {
        "id": "xE5PrNfyuWar"
      },
      "source": [
        "directory = 'premiereDroplets/'\n",
        "fileName = 'CaseStudy3_TableExperimentalData.xlsx'\n",
        "sheetName = '1April edit'\n",
        "df = pd.read_excel(directory + fileName, sheetName)"
      ],
      "execution_count": null,
      "outputs": []
    },
    {
      "cell_type": "code",
      "metadata": {
        "colab": {
          "base_uri": "https://localhost:8080/",
          "height": 617
        },
        "id": "EBJ4P9ugy7cY",
        "outputId": "a977ac2c-17e1-4ffb-b9e1-7cad06674470"
      },
      "source": [
        "df.head(10)"
      ],
      "execution_count": null,
      "outputs": [
        {
          "output_type": "execute_result",
          "data": {
            "text/html": [
              "<div>\n",
              "<style scoped>\n",
              "    .dataframe tbody tr th:only-of-type {\n",
              "        vertical-align: middle;\n",
              "    }\n",
              "\n",
              "    .dataframe tbody tr th {\n",
              "        vertical-align: top;\n",
              "    }\n",
              "\n",
              "    .dataframe thead th {\n",
              "        text-align: right;\n",
              "    }\n",
              "</style>\n",
              "<table border=\"1\" class=\"dataframe\">\n",
              "  <thead>\n",
              "    <tr style=\"text-align: right;\">\n",
              "      <th></th>\n",
              "      <th>Data origin (UoB/UCL)</th>\n",
              "      <th>Name</th>\n",
              "      <th>Flowrate continous phase, mL/min</th>\n",
              "      <th>Flowrate disperse phase, mL/min</th>\n",
              "      <th>Viscosity continous phase, mPa s</th>\n",
              "      <th>Viscosity disperse phase, mPa s</th>\n",
              "      <th>CMC, mM</th>\n",
              "      <th>Interfacial tension at solution concentration, mN/m</th>\n",
              "      <th>Concentration, mM</th>\n",
              "      <th>Droplet diameter, mm</th>\n",
              "      <th>STD</th>\n",
              "      <th>Droplet volume, mm3</th>\n",
              "      <th>Formation time, ms</th>\n",
              "      <th>STD.1</th>\n",
              "    </tr>\n",
              "  </thead>\n",
              "  <tbody>\n",
              "    <tr>\n",
              "      <th>0</th>\n",
              "      <td>UoB</td>\n",
              "      <td>No surfactant</td>\n",
              "      <td>0.003</td>\n",
              "      <td>0.001</td>\n",
              "      <td>4.6</td>\n",
              "      <td>6.4</td>\n",
              "      <td>0.0</td>\n",
              "      <td>29.0</td>\n",
              "      <td>0.0</td>\n",
              "      <td>0.330</td>\n",
              "      <td>0.007</td>\n",
              "      <td>0.0125</td>\n",
              "      <td>750.0</td>\n",
              "      <td>NaN</td>\n",
              "    </tr>\n",
              "    <tr>\n",
              "      <th>1</th>\n",
              "      <td>UoB</td>\n",
              "      <td>No surfactant</td>\n",
              "      <td>0.003</td>\n",
              "      <td>0.003</td>\n",
              "      <td>4.6</td>\n",
              "      <td>6.4</td>\n",
              "      <td>0.0</td>\n",
              "      <td>29.0</td>\n",
              "      <td>0.0</td>\n",
              "      <td>0.334</td>\n",
              "      <td>0.012</td>\n",
              "      <td>0.0125</td>\n",
              "      <td>250.0</td>\n",
              "      <td>NaN</td>\n",
              "    </tr>\n",
              "    <tr>\n",
              "      <th>2</th>\n",
              "      <td>UoB</td>\n",
              "      <td>No surfactant</td>\n",
              "      <td>0.003</td>\n",
              "      <td>0.003</td>\n",
              "      <td>4.6</td>\n",
              "      <td>6.4</td>\n",
              "      <td>0.0</td>\n",
              "      <td>29.0</td>\n",
              "      <td>0.0</td>\n",
              "      <td>0.359</td>\n",
              "      <td>0.006</td>\n",
              "      <td>0.0145</td>\n",
              "      <td>290.0</td>\n",
              "      <td>NaN</td>\n",
              "    </tr>\n",
              "    <tr>\n",
              "      <th>3</th>\n",
              "      <td>UoB</td>\n",
              "      <td>No surfactant</td>\n",
              "      <td>0.003</td>\n",
              "      <td>0.006</td>\n",
              "      <td>4.6</td>\n",
              "      <td>6.4</td>\n",
              "      <td>0.0</td>\n",
              "      <td>29.0</td>\n",
              "      <td>0.0</td>\n",
              "      <td>0.363</td>\n",
              "      <td>0.012</td>\n",
              "      <td>0.0160</td>\n",
              "      <td>160.0</td>\n",
              "      <td>NaN</td>\n",
              "    </tr>\n",
              "    <tr>\n",
              "      <th>4</th>\n",
              "      <td>UoB</td>\n",
              "      <td>No surfactant</td>\n",
              "      <td>0.006</td>\n",
              "      <td>0.001</td>\n",
              "      <td>4.6</td>\n",
              "      <td>6.4</td>\n",
              "      <td>0.0</td>\n",
              "      <td>29.0</td>\n",
              "      <td>0.0</td>\n",
              "      <td>0.306</td>\n",
              "      <td>0.003</td>\n",
              "      <td>0.0112</td>\n",
              "      <td>670.0</td>\n",
              "      <td>NaN</td>\n",
              "    </tr>\n",
              "    <tr>\n",
              "      <th>5</th>\n",
              "      <td>UoB</td>\n",
              "      <td>No surfactant</td>\n",
              "      <td>0.006</td>\n",
              "      <td>0.003</td>\n",
              "      <td>4.6</td>\n",
              "      <td>6.4</td>\n",
              "      <td>0.0</td>\n",
              "      <td>29.0</td>\n",
              "      <td>0.0</td>\n",
              "      <td>0.298</td>\n",
              "      <td>0.005</td>\n",
              "      <td>0.0100</td>\n",
              "      <td>200.0</td>\n",
              "      <td>NaN</td>\n",
              "    </tr>\n",
              "    <tr>\n",
              "      <th>6</th>\n",
              "      <td>UoB</td>\n",
              "      <td>No surfactant</td>\n",
              "      <td>0.006</td>\n",
              "      <td>0.006</td>\n",
              "      <td>4.6</td>\n",
              "      <td>6.4</td>\n",
              "      <td>0.0</td>\n",
              "      <td>29.0</td>\n",
              "      <td>0.0</td>\n",
              "      <td>0.303</td>\n",
              "      <td>0.003</td>\n",
              "      <td>0.0110</td>\n",
              "      <td>110.0</td>\n",
              "      <td>NaN</td>\n",
              "    </tr>\n",
              "    <tr>\n",
              "      <th>7</th>\n",
              "      <td>UoB</td>\n",
              "      <td>No surfactant</td>\n",
              "      <td>0.006</td>\n",
              "      <td>0.010</td>\n",
              "      <td>4.6</td>\n",
              "      <td>6.4</td>\n",
              "      <td>0.0</td>\n",
              "      <td>29.0</td>\n",
              "      <td>0.0</td>\n",
              "      <td>0.311</td>\n",
              "      <td>0.004</td>\n",
              "      <td>0.0102</td>\n",
              "      <td>61.0</td>\n",
              "      <td>NaN</td>\n",
              "    </tr>\n",
              "    <tr>\n",
              "      <th>8</th>\n",
              "      <td>UoB</td>\n",
              "      <td>No surfactant</td>\n",
              "      <td>0.010</td>\n",
              "      <td>0.001</td>\n",
              "      <td>4.6</td>\n",
              "      <td>6.4</td>\n",
              "      <td>0.0</td>\n",
              "      <td>29.0</td>\n",
              "      <td>0.0</td>\n",
              "      <td>0.270</td>\n",
              "      <td>0.003</td>\n",
              "      <td>0.0050</td>\n",
              "      <td>300.0</td>\n",
              "      <td>NaN</td>\n",
              "    </tr>\n",
              "    <tr>\n",
              "      <th>9</th>\n",
              "      <td>UoB</td>\n",
              "      <td>No surfactant</td>\n",
              "      <td>0.010</td>\n",
              "      <td>0.001</td>\n",
              "      <td>4.6</td>\n",
              "      <td>6.4</td>\n",
              "      <td>0.0</td>\n",
              "      <td>29.0</td>\n",
              "      <td>0.0</td>\n",
              "      <td>0.251</td>\n",
              "      <td>0.003</td>\n",
              "      <td>0.0068</td>\n",
              "      <td>410.0</td>\n",
              "      <td>NaN</td>\n",
              "    </tr>\n",
              "  </tbody>\n",
              "</table>\n",
              "</div>"
            ],
            "text/plain": [
              "  Data origin (UoB/UCL)           Name  ...  Formation time, ms  STD.1\n",
              "0                   UoB  No surfactant  ...               750.0    NaN\n",
              "1                   UoB  No surfactant  ...               250.0    NaN\n",
              "2                   UoB  No surfactant  ...               290.0    NaN\n",
              "3                   UoB  No surfactant  ...               160.0    NaN\n",
              "4                   UoB  No surfactant  ...               670.0    NaN\n",
              "5                   UoB  No surfactant  ...               200.0    NaN\n",
              "6                   UoB  No surfactant  ...               110.0    NaN\n",
              "7                   UoB  No surfactant  ...                61.0    NaN\n",
              "8                   UoB  No surfactant  ...               300.0    NaN\n",
              "9                   UoB  No surfactant  ...               410.0    NaN\n",
              "\n",
              "[10 rows x 14 columns]"
            ]
          },
          "metadata": {
            "tags": []
          },
          "execution_count": 62
        }
      ]
    },
    {
      "cell_type": "code",
      "metadata": {
        "colab": {
          "base_uri": "https://localhost:8080/"
        },
        "id": "dyNvJAHF0cAF",
        "outputId": "321764dc-4db7-42c5-d8b5-69c0a1ad1348"
      },
      "source": [
        "print(df.columns)"
      ],
      "execution_count": null,
      "outputs": [
        {
          "output_type": "stream",
          "text": [
            "Index(['Data origin (UoB/UCL)', 'Name', 'Flowrate continous phase, mL/min',\n",
            "       'Flowrate disperse phase, mL/min', 'Viscosity continous phase, mPa s',\n",
            "       'Viscosity disperse phase, mPa s', 'CMC, mM',\n",
            "       'Interfacial tension at solution concentration, mN/m',\n",
            "       'Concentration, mM', 'Droplet diameter, mm', 'STD',\n",
            "       'Droplet volume, mm3', 'Formation time, ms', 'STD.1'],\n",
            "      dtype='object')\n"
          ],
          "name": "stdout"
        }
      ]
    },
    {
      "cell_type": "markdown",
      "metadata": {
        "id": "DdGNDxze2K3p"
      },
      "source": [
        "The following columns are dropped: Origin, Surfactant Name, Droplet Diameter (mm) STD, Droplet volume (mm3), and formation time (ms) STD. Additionally, experiments with missing values are also dropped"
      ]
    },
    {
      "cell_type": "code",
      "metadata": {
        "colab": {
          "base_uri": "https://localhost:8080/"
        },
        "id": "5HvSLog72KUh",
        "outputId": "1a4bec49-927e-4bc6-dd6c-13511a0d8cb4"
      },
      "source": [
        "df = df.drop(df.columns[[0, 1, 10, 11, 13]], axis=1)\n",
        "df.head(10)\n",
        "nOriginalRows = len(df.index)\n",
        "df = df.dropna()\n",
        "nFinalRows = len(df.index)\n",
        "print('Number of rows dropped: ' + str(nOriginalRows - nFinalRows))\n",
        "print('Number of features: ' + str(len(df.columns)))"
      ],
      "execution_count": null,
      "outputs": [
        {
          "output_type": "stream",
          "text": [
            "Number of rows dropped: 216\n",
            "Number of features: 9\n"
          ],
          "name": "stdout"
        }
      ]
    },
    {
      "cell_type": "markdown",
      "metadata": {
        "id": "OdfdAjcy5y8D"
      },
      "source": [
        "The features are then normalised due to different units"
      ]
    },
    {
      "cell_type": "code",
      "metadata": {
        "id": "6wh3v9QB2pes",
        "colab": {
          "base_uri": "https://localhost:8080/",
          "height": 733
        },
        "outputId": "f3db6830-19cd-4fb3-b32a-3c9f9f2889ba"
      },
      "source": [
        "meanColumns = df.mean()\n",
        "print(meanColumns)\n",
        "stdColumns = df.std()\n",
        "print(stdColumns)\n",
        "# New normalised datframe\n",
        "dfNorm = (df - meanColumns)/stdColumns\n",
        "dfNorm.head(10)"
      ],
      "execution_count": null,
      "outputs": [
        {
          "output_type": "stream",
          "text": [
            "Flowrate continous phase, mL/min                        0.062677\n",
            "Flowrate disperse phase, mL/min                         0.018633\n",
            "Viscosity continous phase, mPa s                        4.600000\n",
            "Viscosity disperse phase, mPa s                         6.580536\n",
            "CMC, mM                                                 7.691016\n",
            "Interfacial tension at solution concentration, mN/m    14.772186\n",
            "Concentration, mM                                      19.849062\n",
            "Droplet diameter, mm                                    0.195033\n",
            "Formation time, ms                                     47.839389\n",
            "dtype: float64\n",
            "Flowrate continous phase, mL/min                       5.036049e-02\n",
            "Flowrate disperse phase, mL/min                        2.088875e-02\n",
            "Viscosity continous phase, mPa s                       5.688355e-14\n",
            "Viscosity disperse phase, mPa s                        2.403252e-01\n",
            "CMC, mM                                                7.799463e+00\n",
            "Interfacial tension at solution concentration, mN/m    9.480963e+00\n",
            "Concentration, mM                                      3.770714e+01\n",
            "Droplet diameter, mm                                   6.221175e-02\n",
            "Formation time, ms                                     9.278626e+01\n",
            "dtype: float64\n"
          ],
          "name": "stdout"
        },
        {
          "output_type": "execute_result",
          "data": {
            "text/html": [
              "<div>\n",
              "<style scoped>\n",
              "    .dataframe tbody tr th:only-of-type {\n",
              "        vertical-align: middle;\n",
              "    }\n",
              "\n",
              "    .dataframe tbody tr th {\n",
              "        vertical-align: top;\n",
              "    }\n",
              "\n",
              "    .dataframe thead th {\n",
              "        text-align: right;\n",
              "    }\n",
              "</style>\n",
              "<table border=\"1\" class=\"dataframe\">\n",
              "  <thead>\n",
              "    <tr style=\"text-align: right;\">\n",
              "      <th></th>\n",
              "      <th>Flowrate continous phase, mL/min</th>\n",
              "      <th>Flowrate disperse phase, mL/min</th>\n",
              "      <th>Viscosity continous phase, mPa s</th>\n",
              "      <th>Viscosity disperse phase, mPa s</th>\n",
              "      <th>CMC, mM</th>\n",
              "      <th>Interfacial tension at solution concentration, mN/m</th>\n",
              "      <th>Concentration, mM</th>\n",
              "      <th>Droplet diameter, mm</th>\n",
              "      <th>Formation time, ms</th>\n",
              "    </tr>\n",
              "  </thead>\n",
              "  <tbody>\n",
              "    <tr>\n",
              "      <th>0</th>\n",
              "      <td>-1.184996</td>\n",
              "      <td>-0.844152</td>\n",
              "      <td>0.999295</td>\n",
              "      <td>-0.751215</td>\n",
              "      <td>-0.986095</td>\n",
              "      <td>1.500672</td>\n",
              "      <td>-0.526401</td>\n",
              "      <td>2.169470</td>\n",
              "      <td>7.567506</td>\n",
              "    </tr>\n",
              "    <tr>\n",
              "      <th>1</th>\n",
              "      <td>-1.184996</td>\n",
              "      <td>-0.748407</td>\n",
              "      <td>0.999295</td>\n",
              "      <td>-0.751215</td>\n",
              "      <td>-0.986095</td>\n",
              "      <td>1.500672</td>\n",
              "      <td>-0.526401</td>\n",
              "      <td>2.233767</td>\n",
              "      <td>2.178777</td>\n",
              "    </tr>\n",
              "    <tr>\n",
              "      <th>2</th>\n",
              "      <td>-1.184996</td>\n",
              "      <td>-0.748407</td>\n",
              "      <td>0.999295</td>\n",
              "      <td>-0.751215</td>\n",
              "      <td>-0.986095</td>\n",
              "      <td>1.500672</td>\n",
              "      <td>-0.526401</td>\n",
              "      <td>2.635620</td>\n",
              "      <td>2.609876</td>\n",
              "    </tr>\n",
              "    <tr>\n",
              "      <th>3</th>\n",
              "      <td>-1.184996</td>\n",
              "      <td>-0.604789</td>\n",
              "      <td>0.999295</td>\n",
              "      <td>-0.751215</td>\n",
              "      <td>-0.986095</td>\n",
              "      <td>1.500672</td>\n",
              "      <td>-0.526401</td>\n",
              "      <td>2.699916</td>\n",
              "      <td>1.208806</td>\n",
              "    </tr>\n",
              "    <tr>\n",
              "      <th>4</th>\n",
              "      <td>-1.125426</td>\n",
              "      <td>-0.844152</td>\n",
              "      <td>0.999295</td>\n",
              "      <td>-0.751215</td>\n",
              "      <td>-0.986095</td>\n",
              "      <td>1.500672</td>\n",
              "      <td>-0.526401</td>\n",
              "      <td>1.783691</td>\n",
              "      <td>6.705309</td>\n",
              "    </tr>\n",
              "    <tr>\n",
              "      <th>5</th>\n",
              "      <td>-1.125426</td>\n",
              "      <td>-0.748407</td>\n",
              "      <td>0.999295</td>\n",
              "      <td>-0.751215</td>\n",
              "      <td>-0.986095</td>\n",
              "      <td>1.500672</td>\n",
              "      <td>-0.526401</td>\n",
              "      <td>1.655098</td>\n",
              "      <td>1.639904</td>\n",
              "    </tr>\n",
              "    <tr>\n",
              "      <th>6</th>\n",
              "      <td>-1.125426</td>\n",
              "      <td>-0.604789</td>\n",
              "      <td>0.999295</td>\n",
              "      <td>-0.751215</td>\n",
              "      <td>-0.986095</td>\n",
              "      <td>1.500672</td>\n",
              "      <td>-0.526401</td>\n",
              "      <td>1.735468</td>\n",
              "      <td>0.669933</td>\n",
              "    </tr>\n",
              "    <tr>\n",
              "      <th>7</th>\n",
              "      <td>-1.125426</td>\n",
              "      <td>-0.413298</td>\n",
              "      <td>0.999295</td>\n",
              "      <td>-0.751215</td>\n",
              "      <td>-0.986095</td>\n",
              "      <td>1.500672</td>\n",
              "      <td>-0.526401</td>\n",
              "      <td>1.864061</td>\n",
              "      <td>0.141838</td>\n",
              "    </tr>\n",
              "    <tr>\n",
              "      <th>8</th>\n",
              "      <td>-1.045999</td>\n",
              "      <td>-0.844152</td>\n",
              "      <td>0.999295</td>\n",
              "      <td>-0.751215</td>\n",
              "      <td>-0.986095</td>\n",
              "      <td>1.500672</td>\n",
              "      <td>-0.526401</td>\n",
              "      <td>1.205022</td>\n",
              "      <td>2.717650</td>\n",
              "    </tr>\n",
              "    <tr>\n",
              "      <th>9</th>\n",
              "      <td>-1.045999</td>\n",
              "      <td>-0.844152</td>\n",
              "      <td>0.999295</td>\n",
              "      <td>-0.751215</td>\n",
              "      <td>-0.986095</td>\n",
              "      <td>1.500672</td>\n",
              "      <td>-0.526401</td>\n",
              "      <td>0.899613</td>\n",
              "      <td>3.903171</td>\n",
              "    </tr>\n",
              "  </tbody>\n",
              "</table>\n",
              "</div>"
            ],
            "text/plain": [
              "   Flowrate continous phase, mL/min  ...  Formation time, ms\n",
              "0                         -1.184996  ...            7.567506\n",
              "1                         -1.184996  ...            2.178777\n",
              "2                         -1.184996  ...            2.609876\n",
              "3                         -1.184996  ...            1.208806\n",
              "4                         -1.125426  ...            6.705309\n",
              "5                         -1.125426  ...            1.639904\n",
              "6                         -1.125426  ...            0.669933\n",
              "7                         -1.125426  ...            0.141838\n",
              "8                         -1.045999  ...            2.717650\n",
              "9                         -1.045999  ...            3.903171\n",
              "\n",
              "[10 rows x 9 columns]"
            ]
          },
          "metadata": {
            "tags": []
          },
          "execution_count": 70
        }
      ]
    }
  ]
}